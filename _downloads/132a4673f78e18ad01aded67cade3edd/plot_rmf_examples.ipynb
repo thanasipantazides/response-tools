{
  "cells": [
    {
      "cell_type": "markdown",
      "metadata": {},
      "source": [
        "\n# Example FOXSI-4 RMFs\n\nScript showing a quick example how to obtain and plot the Redistribution \nMatrix Functions (RMFs) for a Hard and Soft X-ray (H/SXR) FOXSI-4 \ntelescope.\n\nThe chosen SXR and HXR telescopes are Telescope 0 and 2, respectively.\nTelescope 0 utilizes a CMOS detector and Telescope 2 has a CdTe \nDouble-sided Strip Detector (CdTe-DSD).\n\nFor telescope components to choose, see the \n[FOXSI-4 Instrumentation](https://foxsi.github.io/response-tools/instrument.html)_ \ndocumentation\n"
      ]
    },
    {
      "cell_type": "code",
      "execution_count": null,
      "metadata": {
        "collapsed": false
      },
      "outputs": [],
      "source": [
        "import astropy.units as u\nfrom matplotlib.colors import LogNorm\nimport matplotlib.gridspec as gridspec\nimport matplotlib.pyplot as plt\nimport numpy as np\n\nimport response_tools.responses as responses"
      ]
    },
    {
      "cell_type": "markdown",
      "metadata": {},
      "source": [
        "## A note on usage and user options\n\nOne great thing about the unit-awareness of the inputs/outputs is that \nyou can pass any reasonable input units and they'll be converted for \nyou so you don't need to worry about conversion factors throughout \nyour code to use the functions.\n\nAs other examples will likely go into more detail than here, to \ngenerate a telescope response you only need to make a few core \ndecisions related to the **FOXSI-4 observation** and the data in which \nthe user is interested.\n\n.. raw:: html\n\n    <style> .colour {color:#e16b27;font-style:italic;} </style>\n\n.. role:: colour\n\n:colour:`Please look over the FOXSI-4 observation resources to add` \n:colour:`more context as to how a user might decide on their choice` \n:colour:`of the following parameters. Additionally, look over the` \n:colour:`FOXSI-4 instrumentation resources when deciding which`\n:colour:`functions to use.`\n\nThese crucial choices will be:\n\n* **A source location** to obtain:\n\n  * A detector region.\n\n* **A time range during the flight**.\n* **An energy array** *(sometimes)*.\n\nFor more detail on choices:\n\n* **A detector region** (for CdTe, input: ``region`` xor ``pitch``):\n\n  * For CdTe Redistribution Matrix Function (RMF) code.\n\n    * Of course, this should be consistent with the off axis angle being used.\n\n  * Use either, not both, inputs:\n\n    * An integer for ``region`` input in [0,1,2].\n    * Astropy.units unit convertable to micrometers for ``pitch`` input in [60 um,80 um,100 um].\n\n"
      ]
    },
    {
      "cell_type": "markdown",
      "metadata": {},
      "source": [
        "## Choosing the RMF parameters\n\nWhen it comes to the CdTe detectors a user needs to decide which \ndetector region(s) their data comes from in order to obtain the \ncorrect RMF. The strips vary in pitch across the detector and have 3\ndifferent regions:\n\n* Region 0, pitch 60 $\\mu$m\n* Region 1, pitch 80 $\\mu$m\n* Region 2, pitch 100 $\\mu$m\n\n(For observational choices, see the \n[FOXSI-4 Observation](https://foxsi.github.io/response-tools/observation.html)_ \ndocumentation)\n\nLuckily, for CMOS, it is less complicated as the RMF **does not** vary\nacross the detector so no choice on region is necessary.\n\nLet's assume the CdTe region the user wants is for data in the center \nof the detector and so pick region 0 (60 $\\mu$m):\n\n"
      ]
    },
    {
      "cell_type": "code",
      "execution_count": null,
      "metadata": {
        "collapsed": false
      },
      "outputs": [],
      "source": [
        "user_region = 0 # equivalent to defining ``user_pitch=60<<u.um``"
      ]
    },
    {
      "cell_type": "markdown",
      "metadata": {},
      "source": [
        "## Getting the RMFs\n\nNow that the user has made their choices, the RMFs for any telescope \nare easily obtained:\n\n"
      ]
    },
    {
      "cell_type": "code",
      "execution_count": null,
      "metadata": {
        "collapsed": false
      },
      "outputs": [],
      "source": [
        "# CMOS RMF\npos0_rmf = responses.foxsi4_telescope0_rmf() \n# CdTe RMF\n# if pitch is defined instead, pass as ``responses.foxsi4_telescope2_rmf(pitch=user_pitch)``\npos2_rmf = responses.foxsi4_telescope2_rmf(region=user_region)"
      ]
    },
    {
      "cell_type": "markdown",
      "metadata": {},
      "source": [
        "## Exploring the RMF information\n\nThe [Response-tools code tips](https://foxsi.github.io/response-tools/code_tips.html)_\nsection describes the fields a user might find in the returned data \nclass; however, it is worth noting the very important energy \ninformation that comes with the RMF object.\n\nThe two fields, ``input_energy_edges`` and ``output_energy_edges``, \ndefine the energies at which all other analysis components should be\nevaluated and compared.\n\nFor example, if an [ARF](https://foxsi.github.io/response-tools/response_guide.html#what-is-an-ancillary-response-function-file-arf)_ ([example](https://foxsi.github.io/response-tools/auto_examples/plot_arf_from_scratch.html#sphx-glr-auto-examples-plot-arf-from-scratch-py)_)\nis also being created then this should be evaluated with respect to \nthe `input_energy_edges``, most like the bin mid-points. This is the \nsame for model evaluation in, say, spectral fitting analysis. The \n``output_energy_edges`` define the bins at which the data is taken and \nfor which the data calibrated.\n\n"
      ]
    },
    {
      "cell_type": "markdown",
      "metadata": {},
      "source": [
        "## Plotting RMF products\n\nThis might be unlikely but a user can then, of course, plot the RMFs\nthey have loaded in:\n\n"
      ]
    },
    {
      "cell_type": "code",
      "execution_count": null,
      "metadata": {
        "collapsed": false
      },
      "outputs": [],
      "source": [
        "fig = plt.figure(figsize=(12, 5))\ngs = gridspec.GridSpec(1, 2)\n\n# CMOS, telescope 0 RMF\ngs_ax0 = fig.add_subplot(gs[0, 0])\nextent = [np.min(pos0_rmf.output_energy_edges.value), \n          np.max(pos0_rmf.output_energy_edges.value), \n          np.min(pos0_rmf.input_energy_edges.value), \n          np.max(pos0_rmf.input_energy_edges.value)]\nr = gs_ax0.imshow(pos0_rmf.response.value, \n                origin=\"lower\", \n                norm=LogNorm(vmin=1e-7, vmax=3e-2), \n                extent=extent,\n                aspect=(extent[1]-extent[0])/(extent[3]-extent[2])\n                )\ncbar = plt.colorbar(r)\ncbar.ax.set_ylabel(f\"Response [{pos0_rmf.response.unit:latex}]\")\ngs_ax0.set_xlabel(f\"Output Edges - Observable Bin [{pos0_rmf.output_energy_edges.unit:latex}]\")\ngs_ax0.set_ylabel(f\"Input Edges - Photon Energy [{pos0_rmf.input_energy_edges.unit:latex}]\")\ngs_ax0.set_title(f\"{pos0_rmf.response_type}:: {pos0_rmf.telescope}\")\n\n# CdTe, telescope 2 RMF\ngs_ax1 = fig.add_subplot(gs[0, 1])\nr = gs_ax1.imshow(pos2_rmf.response.value, \n                origin=\"lower\", \n                norm=LogNorm(vmin=1e-7, vmax=8e-1), \n                extent=[np.min(pos2_rmf.output_energy_edges.value), \n                        np.max(pos2_rmf.output_energy_edges.value), \n                        np.min(pos2_rmf.input_energy_edges.value), \n                        np.max(pos2_rmf.input_energy_edges.value)]\n                )\ncbar = plt.colorbar(r)\ncbar.ax.set_ylabel(f\"Response [{pos2_rmf.response.unit:latex}]\")\ngs_ax1.set_xlabel(f\"Output Edges - Count Energy [{pos2_rmf.output_energy_edges.unit:latex}]\")\ngs_ax1.set_ylabel(f\"Input Edges - Photon Energy [{pos2_rmf.input_energy_edges.unit:latex}]\")\ngs_ax1.set_title(f\"{pos2_rmf.response_type}:: {pos2_rmf.telescope}\")\n\nplt.tight_layout()\nplt.show()"
      ]
    },
    {
      "cell_type": "markdown",
      "metadata": {},
      "source": [
        "## Lower level RMF access (Extra)\n\nIn the above example, the imaginary user has used the [Level 3 API](https://foxsi.github.io/response-tools/code.html)_\nbut the RMF/detector response can be accessed at the lower levels as\nwell.\n\n.. raw:: html\n\n    <style> .colourbold {color:#e16b27;font-weight:bold;} </style>\n\n.. role:: colourbold\n\n:colourbold:`Level 2:`\n\n* ``response_tools.telescope_parts.foxsi4_position#_detector_response`` where ``#`` refers to the telescope position number of interest.\n\n:colourbold:`Level 1:`\n\n* CdTe: ``response_tools.detector_response.cdte_det_resp``\n* CMOS: ``response_tools.detector_response.cmos_det_resp``\n\n:colourbold:`Level 0:`\n\n* ``f\"{response_tools.responseFilePath}/detector-response-data/\"``\n"
      ]
    }
  ],
  "metadata": {
    "kernelspec": {
      "display_name": "Python 3",
      "language": "python",
      "name": "python3"
    },
    "language_info": {
      "codemirror_mode": {
        "name": "ipython",
        "version": 3
      },
      "file_extension": ".py",
      "mimetype": "text/x-python",
      "name": "python",
      "nbconvert_exporter": "python",
      "pygments_lexer": "ipython3",
      "version": "3.12.3"
    }
  },
  "nbformat": 4,
  "nbformat_minor": 0
}