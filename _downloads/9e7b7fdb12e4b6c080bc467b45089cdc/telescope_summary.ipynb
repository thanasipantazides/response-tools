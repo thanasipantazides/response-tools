{
  "cells": [
    {
      "cell_type": "markdown",
      "metadata": {},
      "source": [
        "\n# Telescope Summary\n\nAn example showing the constituants and, therefore, photon paths of all \nFOXSI-4 telescopes.\n"
      ]
    },
    {
      "cell_type": "code",
      "execution_count": null,
      "metadata": {
        "collapsed": false
      },
      "outputs": [],
      "source": [
        "import response_tools.telescope_parts as telescope_parts\nimport numpy as np\nimport matplotlib as mpl\n\ndef behemoth_plot():\n    blank_sentinel = \"BLANK\"\n    mosaic = [\n        [\"p0_prefilter\",    \"p1_prefilter\",     \"BLANK\",        \"BLANK\",        \"BLANK\",        \"BLANK\",        \"BLANK\",        \"r0_annotate\"],\n        [\"p0_collimator\",   \"p1_collimator\",    \"p2_blanket\",   \"p3_blanket\",   \"p4_blanket\",   \"p5_blanket\",   \"p6_blanket\",   \"r1_annotate\"],\n        [\"p0_optics\",       \"p1_optics\",        \"p2_optics\",    \"p3_optics\",    \"p4_optics\",    \"p5_optics\",    \"p6_optics\",    \"r2_annotate\"],\n        [\"BLANK\",           \"BLANK\",            \"BLANK\",        \"p3_attenuator\",\"BLANK\",        \"p5_attenuator\",\"BLANK\",        \"r3_annotate\"],\n        [\"p0_obf\",          \"p1_obf\",           \"p2_filter\",    \"p3_mylar\",     \"p4_filter\",    \"p5_mylar\",     \"p6_mylar\",     \"r4_annotate\"],\n        [\"p0_detector\",     \"p1_detector\",      \"p2_detector\",  \"p3_detector\",  \"p4_detector\",  \"p5_detector\",  \"p6_detector\",  \"r5_annotate\"],\n        [\"p0_annotate\",     \"p1_annotate\",      \"p2_annotate\",  \"p3_annotate\",  \"p4_annotate\",  \"p5_annotate\",  \"p6_annotate\",  \"corner\"],\n    ]\n\n    fig, ax = mpl.pyplot.subplot_mosaic(mosaic, figsize=(12,8), empty_sentinel=blank_sentinel, width_ratios=[2, 2, 2, 2, 2, 2, 2, 1], height_ratios=[2, 2, 2, 2, 2, 2, 1])\n\n\n\n\n    mpl.pyplot.show()\n    \nbehemoth_plot()"
      ]
    }
  ],
  "metadata": {
    "kernelspec": {
      "display_name": "Python 3",
      "language": "python",
      "name": "python3"
    },
    "language_info": {
      "codemirror_mode": {
        "name": "ipython",
        "version": 3
      },
      "file_extension": ".py",
      "mimetype": "text/x-python",
      "name": "python",
      "nbconvert_exporter": "python",
      "pygments_lexer": "ipython3",
      "version": "3.12.3"
    }
  },
  "nbformat": 4,
  "nbformat_minor": 0
}