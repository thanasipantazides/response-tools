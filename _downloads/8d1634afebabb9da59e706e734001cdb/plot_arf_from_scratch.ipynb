{
  "cells": [
    {
      "cell_type": "markdown",
      "metadata": {},
      "source": [
        "\n# Create an ARF from scratch\n\nScript showing a quick example how to create an Ancillary Response \nFunction (ARF) from scratch from a FOXSI-4 telescope.\n\nCheck out the [What is a Response](https://foxsi.github.io/response-tools/response_guide.html)_ \nsection in the online documentation for more details on an ARF's \npurpose.\n\nThe chosen telescope is Telescope 2 with photon path:\n\n* Thermal blanket -> Marshall 10-shell X-7 -> Al (0.015\") -> CdTe4\n"
      ]
    },
    {
      "cell_type": "code",
      "execution_count": null,
      "metadata": {
        "collapsed": false
      },
      "outputs": [],
      "source": [
        "import astropy.units as u\nimport matplotlib.gridspec as gridspec\nimport matplotlib.pyplot as plt\nimport numpy as np\n\nimport response_tools.telescope_parts as tp"
      ]
    },
    {
      "cell_type": "markdown",
      "metadata": {},
      "source": [
        "## A note on usage and user options\n\nOne great thing about the unit-awareness of the inputs/outputs is that \nyou can pass any reasonable input units and they'll be converted for \nyou so you don't need to worry about conversion factors throughout \nyour code to use the functions.\n\nAs other examples will likely go into more detail than here, to \ngenerate a telescope response you only need to make a few core \ndecisions related to the **FOXSI-4 observation** and the data in which \nthe user is interested.\n\n.. raw:: html\n\n    <style> .colour {color:#e16b27;font-style:italic;} </style>\n\n.. role:: colour\n\n:colour:`Please look over the FOXSI-4 observation resources to add` \n:colour:`more context as to how a user might decide on their choice` \n:colour:`of the following parameters. Additionally, look over the` \n:colour:`FOXSI-4 instrumentation resources when deciding which`\n:colour:`functions to use.`\n\nThese crucial choices will be:\n\n* **A source location** to obtain:\n\n  * An off axis angle.\n\n* **A time range during the flight**.\n* **An energy array** *(sometimes)*.\n\nFor more detail on choices:\n\n* **An off axis angle** (input: ``off_axis_angle``):\n\n  * For Ancillary Response Function (ARF) code.\n  * Astropy.units unit convertable to arc-minutes.\n\n* **A time range during the flight** (input: ``time_range``):\n\n  * For Ancillary Response Function (ARF) code.\n  * *Input ``time_range`` will change to something more readable after some time calibration:*\n\n    * E.g., converted to use UTC time strings.\n\n  * Inputs in functions that reference the flight: \n\n    * E.g., in ``response_tools.responses.foxsi4_telescope2_flight_arf``.\n\n  * Astropy.units unit convertable to seconds:\n\n    * Launch: 0 s.\n    * Observation start: 100 s.\n    * Observation end: 461 s.\n\n* **An energy array** (input: ``mid_energies``):\n\n  * For Ancillary Response Function (ARF) code.\n  * Astropy.units unit convertable to keV.\n  * Input should come from the redistribution matrix function (RMF).\n\n    * The RMF defines the energy resolution/sampling of the detector.\n\n"
      ]
    },
    {
      "cell_type": "markdown",
      "metadata": {},
      "source": [
        "## Identify the telescope components\n\nFirst, a user has to be aware of the telescope components in which \nthey are interested. The example we will look at is telescope 2. \n\nFrom the photon path described above, the user can see telescope 2 has \nthree 1D components to be involved in its ARF\n\n* Thermal blanket  \n* Marshall 10-shell X-7  \n* Al (0.015\")\n\n(For telescope components, see the \n[FOXSI-4 Instrumentation](https://foxsi.github.io/response-tools/instrument.html)_ \ndocumentation)\n\nThe thermal blanket and the Al attenuator trnsmissions are monolithic \nso the only *real* choice needed here is to pick an off-axis angle for \nthe optic. Let's go for a simple value of 0 arc-minutes.\n\nAdditionally, since we're only looking at the ARF components, we can \ntake the liberty of making up our own energies at which to evaluate \nall of these components.\n\n(For observational choices, see the \n[FOXSI-4 Observation](https://foxsi.github.io/response-tools/observation.html)_ \ndocumentation)\n\n"
      ]
    },
    {
      "cell_type": "code",
      "execution_count": null,
      "metadata": {
        "collapsed": false
      },
      "outputs": [],
      "source": [
        "# set up the ARF with the RMF information then make the SRM\nuser_off_axis_angle = 0 << u.arcmin\nuser_energies = np.linspace(4, 20, 50) << u.keV # 50 energies between 4-20 keV"
      ]
    },
    {
      "cell_type": "markdown",
      "metadata": {},
      "source": [
        "## Evaluating the telescope components\n\nNow a user can get the response elements they want evaluated at the \nparameters they've chosen:\n\n"
      ]
    },
    {
      "cell_type": "code",
      "execution_count": null,
      "metadata": {
        "collapsed": false
      },
      "outputs": [],
      "source": [
        "pos2_tb = tp.foxsi4_position2_thermal_blanket(user_energies)\npos2_op = tp.foxsi4_position2_optics(user_energies, \n                                     off_axis_angle=user_off_axis_angle)\npos2_at = tp.foxsi4_position2_uniform_al(user_energies)"
      ]
    },
    {
      "cell_type": "markdown",
      "metadata": {},
      "source": [
        "A user can quickly plot these individual telescope response components\nto see if they make sense and what is expected:\n\n"
      ]
    },
    {
      "cell_type": "code",
      "execution_count": null,
      "metadata": {
        "collapsed": false
      },
      "outputs": [],
      "source": [
        "fig = plt.figure(figsize=(18, 5))\ngs = gridspec.GridSpec(1, 3)\n\n# the thermal blanket result \ngs_ax0 = fig.add_subplot(gs[0, 0])\ngs_ax0.plot(pos2_tb.mid_energies, pos2_tb.transmissions)\ngs_ax0.set_xlabel(f\"Photon Energy [{pos2_tb.mid_energies.unit:latex}]\")\ngs_ax0.set_ylabel(f\"Transmission [{pos2_tb.transmissions.unit:latex}]\")\ngs_ax0.set_title(f\"Telecope 2: {pos2_tb.attenuation_type}\")\ngs_ax0.set_xlim([np.min(user_energies).value, np.max(user_energies).value])\n\n# the optics effective areas result\ngs_ax1 = fig.add_subplot(gs[0, 1])\ngs_ax1.plot(pos2_op.mid_energies, pos2_op.effective_areas)\ngs_ax1.set_xlabel(f\"Photon Energy [{pos2_op.mid_energies.unit:latex}]\")\ngs_ax1.set_ylabel(f\"Effective Area [{pos2_op.effective_areas.unit:latex}]\")\ngs_ax1.set_title(f\"Telecope 2: {pos2_op.optic_id}\")\ngs_ax1.set_xlim([np.min(user_energies).value, np.max(user_energies).value])\n\n# the fixed attenuator result\ngs_ax2 = fig.add_subplot(gs[0, 2])\ngs_ax2.plot(pos2_at.mid_energies, pos2_at.transmissions)\ngs_ax2.set_xlabel(f\"Photon Energy [{pos2_at.mid_energies.unit:latex}]\")\ngs_ax2.set_ylabel(f\"Transmission [{pos2_at.transmissions.unit:latex}]\")\ngs_ax2.set_title(f\"Telecope 2: {pos2_at.attenuation_type}\")\ngs_ax2.set_xlim([np.min(user_energies).value, np.max(user_energies).value])\n\nplt.tight_layout()\nplt.show()"
      ]
    },
    {
      "cell_type": "markdown",
      "metadata": {},
      "source": [
        "A user can see the three components together and investigate the \nindividual features in each response element. \n\nThis might be useful if the user wanted to investigate any features at\ncertain energies where a response element might have a unique \nbehaviour compared to other elements.\n\n"
      ]
    },
    {
      "cell_type": "markdown",
      "metadata": {},
      "source": [
        "## Creating the telescope ARF\n\nNow the user has the individual components, they might want to combine \nthem to make an ARF.\n\nA user can easily do this to get the ARF 1D array:\n\n"
      ]
    },
    {
      "cell_type": "code",
      "execution_count": null,
      "metadata": {
        "collapsed": false
      },
      "outputs": [],
      "source": [
        "# 1D ARF from components\narf_array = pos2_tb.transmissions * pos2_op.effective_areas * pos2_at.transmissions"
      ]
    },
    {
      "cell_type": "markdown",
      "metadata": {},
      "source": [
        "This will produce a valid ARF; however, notice that all the useful \ndata-class fucntionality is now gone. Unit-awareness will be \npreserved.\n\nA user can see what their ARF looks like by plotting the array as \nnormal:\n\n"
      ]
    },
    {
      "cell_type": "code",
      "execution_count": null,
      "metadata": {
        "collapsed": false
      },
      "outputs": [],
      "source": [
        "fig = plt.figure(figsize=(6, 5))\ngs = gridspec.GridSpec(1, 1)\n\n# the manually made ARF array result \ngs_ax0 = fig.add_subplot(gs[0, 0])\ngs_ax0.plot(user_energies, arf_array)\ngs_ax0.set_xlabel(f\"Photon Energy [{user_energies.unit:latex}]\")\ngs_ax0.set_ylabel(f\"ARF [{arf_array.unit:latex}]\")\ngs_ax0.set_title(f\"Telecope 2: Manually Made ARF\")\ngs_ax0.set_xlim([np.min(user_energies).value, np.max(user_energies).value])\n\nplt.tight_layout()\nplt.show()\n\n# A user can then see different features in the ARF and might be able to \n# attribute those features to the individual components (e.g., the \n# thermal blanket, the Marshall 10-shell X-7 optics, and/or the Al \n# attenuator). A user can then visually see what photons of different \n# enegies experience travelling through the telescope on their way to \n# the detector.\n# \n# **A user can take advantage of pre-prepared functions that create the \n# total ARF for each telescope** while maintaining the data-class \n# structure:\n\nimport response_tools.responses as responses\npos2_arf = responses.foxsi4_telescope2_arf(mid_energies=user_energies, \n                                          off_axis_angle=user_off_axis_angle)"
      ]
    },
    {
      "cell_type": "markdown",
      "metadata": {},
      "source": [
        "Now, `pos2_arf` will contain fields and track items for the user.\n\nA user can plot both ARFs (`arf_array` and the one from `pos2_arf`) to\nvalidate they are the same result:\n\n"
      ]
    },
    {
      "cell_type": "code",
      "execution_count": null,
      "metadata": {
        "collapsed": false
      },
      "outputs": [],
      "source": [
        "fig = plt.figure(figsize=(12, 5))\ngs = gridspec.GridSpec(1, 2)\n\n# the manually made ARF array result \ngs_ax0 = fig.add_subplot(gs[0, 0])\ngs_ax0.plot(user_energies, arf_array)\ngs_ax0.set_xlabel(f\"Photon Energy [{user_energies.unit:latex}]\")\ngs_ax0.set_ylabel(f\"ARF [{arf_array.unit:latex}]\")\ngs_ax0.set_title(f\"Telecope 2: Manually Made ARF\")\ngs_ax0.set_xlim([np.min(user_energies).value, np.max(user_energies).value])\n\n# the pre-prepared ARF result\ngs_ax1 = fig.add_subplot(gs[0, 1])\ngs_ax1.plot(pos2_arf.mid_energies, pos2_arf.response)\ngs_ax1.set_xlabel(f\"Photon Energy [{pos2_arf.mid_energies.unit:latex}]\")\ngs_ax1.set_ylabel(f\"Effective Area [{pos2_arf.response.unit:latex}]\")\ngs_ax1.set_title(f\"{pos2_arf.response_type}:: {pos2_arf.telescope}\")\ngs_ax1.set_xlim([np.min(user_energies).value, np.max(user_energies).value])\n\nplt.tight_layout()\nplt.show()"
      ]
    },
    {
      "cell_type": "markdown",
      "metadata": {},
      "source": [
        "## Creating the telescope ARF **(Advanced)**\n\nIf a user wishes to manually create their own data-class result, this \nis also possible.\n\nFirst, the correct data-class should be identified. The user here is \nlooking at an data-class similar to thos in \n`response_tools.responses`; therefore, looking at the \n[online documentation for this](https://foxsi.github.io/response-tools/response_tools.html#module-response_tools.responses)_\nthe user can see the `Response1DOutput` data-class object so let's use\nthat:\n\n"
      ]
    },
    {
      "cell_type": "code",
      "execution_count": null,
      "metadata": {
        "collapsed": false
      },
      "outputs": [],
      "source": [
        "custom_arf_dataclass = responses.Response1DOutput(filename=\"No-File\",\n                                                  function_path=\"No-Function\",\n                                                  mid_energies=user_energies,\n                                                  response=arf_array,\n                                                  response_type=\"ARF\",\n                                                  telescope=\"custom-foxsi4-telescope2\",\n                                                  elements=(pos2_tb, \n                                                            pos2_op, \n                                                            pos2_at,\n                                                            ),\n                                                  )"
      ]
    },
    {
      "cell_type": "markdown",
      "metadata": {},
      "source": [
        "The user can plot this with the previous examples to check the output:\n\n"
      ]
    },
    {
      "cell_type": "code",
      "execution_count": null,
      "metadata": {
        "collapsed": false
      },
      "outputs": [],
      "source": [
        "fig = plt.figure(figsize=(18, 5))\ngs = gridspec.GridSpec(1, 3)\n\n# the manually made ARF array result \ngs_ax0 = fig.add_subplot(gs[0, 0])\ngs_ax0.plot(user_energies, arf_array)\ngs_ax0.set_xlabel(f\"Photon Energy [{user_energies.unit:latex}]\")\ngs_ax0.set_ylabel(f\"ARF [{arf_array.unit:latex}]\")\ngs_ax0.set_title(f\"Telecope 2: Manually Made ARF\")\ngs_ax0.set_xlim([np.min(user_energies).value, np.max(user_energies).value])\n\n# the pre-prepared ARF result\ngs_ax1 = fig.add_subplot(gs[0, 1])\ngs_ax1.plot(pos2_arf.mid_energies, pos2_arf.response)\ngs_ax1.set_xlabel(f\"Photon Energy [{pos2_arf.mid_energies.unit:latex}]\")\ngs_ax1.set_ylabel(f\"Effective Area [{pos2_arf.response.unit:latex}]\")\ngs_ax1.set_title(f\"{pos2_arf.response_type}:: {pos2_arf.telescope}\")\ngs_ax1.set_xlim([np.min(user_energies).value, np.max(user_energies).value])\n\n# the pre-prepared ARF result\ngs_ax2 = fig.add_subplot(gs[0, 2])\ngs_ax2.plot(custom_arf_dataclass.mid_energies, custom_arf_dataclass.response)\ngs_ax2.set_xlabel(f\"Photon Energy [{custom_arf_dataclass.mid_energies.unit:latex}]\")\ngs_ax2.set_ylabel(f\"Effective Area [{custom_arf_dataclass.response.unit:latex}]\")\ngs_ax2.set_title(f\"Custom:: {custom_arf_dataclass.response_type}:: {custom_arf_dataclass.telescope}\")\ngs_ax2.set_xlim([np.min(user_energies).value, np.max(user_energies).value])\n\nplt.tight_layout()\nplt.show()"
      ]
    },
    {
      "cell_type": "markdown",
      "metadata": {},
      "source": [
        "If the user is wrapping this in a function then it might be a good \nidea to use the `update_function_path` method on the response \ncomponents before passing them as elements to the class. E.g., \n\n"
      ]
    },
    {
      "cell_type": "code",
      "execution_count": null,
      "metadata": {
        "collapsed": false
      },
      "outputs": [],
      "source": [
        "import sys\n\n@u.quantity_input(mid_energies=u.keV, off_axis_angle=u.arcmin)\ndef custom_telescope_arf(mid_energies, off_axis_angle):\n    \"\"\"Manual Telescope ARF. \"\"\"\n    tb = tp.foxsi4_position2_thermal_blanket(mid_energies) \n    opt = tp.foxsi4_position2_optics(mid_energies, \n                                     off_axis_angle=off_axis_angle) \n    uni_al = tp.foxsi4_position2_uniform_al(mid_energies)\n\n    arf = tb.transmissions * opt.effective_areas * uni_al.transmissions\n\n    # get the function name automatically _or_ manually type the function name\n    func_name = sys._getframe().f_code.co_name \n    # update the elements to show they've passed through this function\n    tb.update_function_path(func_name)\n    opt.update_function_path(func_name)\n    uni_al.update_function_path(func_name)\n\n    return responses.Response1DOutput(filename=\"No-File\",\n                                      function_path=func_name,\n                                      mid_energies=mid_energies,\n                                      response=arf,\n                                      response_type=\"ARF\",\n                                      telescope=\"custom-telescope2\",\n                                      elements=(tb, \n                                                opt, \n                                                uni_al,\n                                                ),\n                                      )"
      ]
    }
  ],
  "metadata": {
    "kernelspec": {
      "display_name": "Python 3",
      "language": "python",
      "name": "python3"
    },
    "language_info": {
      "codemirror_mode": {
        "name": "ipython",
        "version": 3
      },
      "file_extension": ".py",
      "mimetype": "text/x-python",
      "name": "python",
      "nbconvert_exporter": "python",
      "pygments_lexer": "ipython3",
      "version": "3.12.3"
    }
  },
  "nbformat": 4,
  "nbformat_minor": 0
}