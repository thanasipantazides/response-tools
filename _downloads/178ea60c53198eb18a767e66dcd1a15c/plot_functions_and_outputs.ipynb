{
  "cells": [
    {
      "cell_type": "markdown",
      "metadata": {},
      "source": [
        "\n# Functions & Outputs\n\nScript showing a quick example on how to use the functions.\n\nThe chosen telescope for the example is Telescope 2 with photon path:\n\n- Thermal blanket -> Marshall 10-shell X-7 -> Al (0.015\") -> CdTe4\n\nMainly a quick example on unit aware objects and how to access the \nreturned data-class objects.\n\nThis example shows the use of nice high level functions that are tied to\nFOXSI-4 telescopes. \n\n* The ``responses`` module.\n* The ``telescope_parts`` module\n\nThis means we will eventually be dealing with high-level telescope \nresponse products such as the Ancillary Response Function (ARF) and the \nRedistribution Matrix Function (RMF).\n\nIf you're looking for access to response data of the \nindividual components with more freedom then you'll likely be interested \nin the longer named moduels in the package like:\n\n* The ``attenuation`` module.\n* The ``detector_response`` module.\n* The ``effective_area`` module.\n* The ``quantum_efficiency`` module.\n"
      ]
    },
    {
      "cell_type": "markdown",
      "metadata": {},
      "source": [
        ".. raw:: html\n\n    <style> .colour {color:#e16b27;font-style:italic;} </style>\n\n.. role:: colour\n\n:colour:`Please look over the FOXSI-4 observation resources to add` \n:colour:`more context as to how a user might decide on their choice` \n:colour:`of the function parameters. Additionally, look over the` \n:colour:`FOXSI-4 instrumentation resources when deciding which`\n:colour:`functions to use.`\n\nLet's start with importing trusty Numpy as I'm sure we'll need it.\n\n"
      ]
    },
    {
      "cell_type": "code",
      "execution_count": null,
      "metadata": {
        "collapsed": false
      },
      "outputs": [],
      "source": [
        "import numpy as np"
      ]
    },
    {
      "cell_type": "markdown",
      "metadata": {},
      "source": [
        "For high-level user engagement, the following two modules are the \nones likely to use. The `telescope_parts` are well-named functions \ntied to FOXSI positions: E.g., `foxsi4_position2_optics` will return \nFOXSI-4's optical information for Position/Telescope 2.\n\nThe `responses` module will contains functions that combine the \nrelevant `telescope_parts` functions into one to return higher level \nproducts such as the telescope's Ancillary Response Function (ARF), \nRedistribution Matrix Function (RMF), and/or Spectral Response Matrix \n(SRM).\n\n"
      ]
    },
    {
      "cell_type": "code",
      "execution_count": null,
      "metadata": {
        "collapsed": false
      },
      "outputs": [],
      "source": [
        "import response_tools.responses as responses\nimport response_tools.telescope_parts as telescope_parts"
      ]
    },
    {
      "cell_type": "markdown",
      "metadata": {},
      "source": [
        "Let's look at the `foxsi4_position2_optics` function since we \nmentioned it earlier. To see the documentation for this, and any \nfunction, we can always run:\n\n"
      ]
    },
    {
      "cell_type": "code",
      "execution_count": null,
      "metadata": {
        "collapsed": false
      },
      "outputs": [],
      "source": [
        "help(telescope_parts.foxsi4_position2_optics)"
      ]
    },
    {
      "cell_type": "markdown",
      "metadata": {},
      "source": [
        "We see that the help function tells us about the function, how to use \nit, and what it returns *(for those that are familiar with Python, \n``help`` will display the docstring the queried Python object)*.\n\nThe above function is looking for some energies and an off-axis angle.\n\nThe ``help`` function also shows the function is making use of unit \naware inputs to functions (believe me, when it comes to response \nunits, this will save time). \n\nSo let's import Astropy's unit module.\n\n"
      ]
    },
    {
      "cell_type": "code",
      "execution_count": null,
      "metadata": {
        "collapsed": false
      },
      "outputs": [],
      "source": [
        "import astropy.units as u"
      ]
    },
    {
      "cell_type": "markdown",
      "metadata": {},
      "source": [
        "Let's choose a sensible energy array and off-axis angle (remembering \nto add the units to the array/value):\n\n"
      ]
    },
    {
      "cell_type": "code",
      "execution_count": null,
      "metadata": {
        "collapsed": false
      },
      "outputs": [],
      "source": [
        "mid_energies = np.arange(4,20,0.5) << u.keV \noff_axis_angle = 0 << u.arcmin\npos2_optics = telescope_parts.foxsi4_position2_optics(mid_energies, \n                                                      off_axis_angle)"
      ]
    },
    {
      "cell_type": "markdown",
      "metadata": {},
      "source": [
        "One great thing about the unit-awareness of the inputs/outputs is that \nyou can pass any reasonable input units and they'll be converted for \nyou so you don't need to worry about conversion factors throughout \nyour code to use the functions.\n\nE.g., the following will result in the same function output\n\n"
      ]
    },
    {
      "cell_type": "code",
      "execution_count": null,
      "metadata": {
        "collapsed": false
      },
      "outputs": [],
      "source": [
        "mid_energies_eV = np.arange(4_000,20_000,500) << u.eV \noff_axis_angle_arcsec = 0 << u.arcsec\n_pos2_ = telescope_parts.foxsi4_position2_optics(mid_energies_eV, \n                                                 off_axis_angle_arcsec)"
      ]
    },
    {
      "cell_type": "markdown",
      "metadata": {},
      "source": [
        "I.e., `pos2_optics` and `_pos2_` are identical.\n\nYou can also access just the value or just the unit from a unit-aware \nobject with `.value` or `.unit` as well. This can useful for axis \nlabels when necessary.\n\nThe output of `pos2_optics` (an `pos2_optics_new`) isn't just an array \nnow, it's a data-class. The data-class contains the effective areas of \nthe optics but also the energy, file, off-axis angle information used \nto produce it. This is crucial to track when there are a lot of files \nflying around.\n\nAs suggested in the \"Output\" section of the helpful documentation \nearlier, we can see the contents of the data-class and how to access \nthe information within it:\n\n"
      ]
    },
    {
      "cell_type": "markdown",
      "metadata": {},
      "source": [
        "Print\n\n"
      ]
    },
    {
      "cell_type": "code",
      "execution_count": null,
      "metadata": {
        "collapsed": false
      },
      "outputs": [],
      "source": [
        "print(pos2_optics.contents)"
      ]
    },
    {
      "cell_type": "markdown",
      "metadata": {},
      "source": [
        "The above might be a bit cumbersome and you may only wish to look at \nthe data fields contained in the output. For this we can simply run:\n\n"
      ]
    },
    {
      "cell_type": "code",
      "execution_count": null,
      "metadata": {
        "collapsed": false
      },
      "outputs": [],
      "source": [
        "print(pos2_optics.fields)"
      ]
    },
    {
      "cell_type": "markdown",
      "metadata": {},
      "source": [
        "which might be a bit easier to read.\n\nNote: there is a method called `print_contents()` you can use on the \nfunction output that might format the contents a little nicer than the\nabove you may wish to use.\n\nEach field can be accessed with the displayed name. For example, to \nget the effective areas of the optics, simply:\n\n"
      ]
    },
    {
      "cell_type": "code",
      "execution_count": null,
      "metadata": {
        "collapsed": false
      },
      "outputs": [],
      "source": [
        "print(pos2_optics.effective_areas)"
      ]
    },
    {
      "cell_type": "markdown",
      "metadata": {},
      "source": [
        "Notice that these are also unit-aware, help you see at a glance you're \nworking with a product that you might expect.\n\nThe `telescope_parts.foxsi4_position2_optics` function is helpful but \nan even higher level exists that will allow a user to specify a \nFOXSI-4 telescope to obtain the Ancillary Response Function (ARF), \nRedistribution Matrix Function (RMF), and/or Spectral Response Matrix \n(SRM).\n\nFirst, we can get the RMF for a telescope, say, Telescope 2 to be \nconsistent with using position 2's components previously. \n\n"
      ]
    },
    {
      "cell_type": "code",
      "execution_count": null,
      "metadata": {
        "collapsed": false
      },
      "outputs": [],
      "source": [
        "tel2_rmf = responses.foxsi4_telescope2_rmf(region=0)"
      ]
    },
    {
      "cell_type": "markdown",
      "metadata": {},
      "source": [
        "We need to pass the detector region we are interested in for the \ncorrect response to be returned for the CdTe detectors. A user can \ndefine the detector area of interest another way using the strip pitch \nvalues for the CdTe detector. Feel free to make use of the ``help`` \nfunction to see how else the following function can be used.\n\nThe RMF defined the input and output energy axes for the detector so \nwe might as well access the RMF input energies for those energies we \nwant the ARF values for:\n\n"
      ]
    },
    {
      "cell_type": "code",
      "execution_count": null,
      "metadata": {
        "collapsed": false
      },
      "outputs": [],
      "source": [
        "mid_energies = (tel2_rmf.input_energy_edges[:-1]\\\n                +tel2_rmf.input_energy_edges[1:])/2\ntel2_arf = responses.foxsi4_telescope2_arf(mid_energies=mid_energies, \n                                           off_axis_angle=0<<u.arcmin)"
      ]
    },
    {
      "cell_type": "markdown",
      "metadata": {},
      "source": [
        "Once we have the RMF and ARF for a given instrument, you might want to \njust see what the total SRM is. This can be done by passing the ARF \nand RMF to the general `responses.foxsi4_telescope_spectral_response` \nfunction:\n\n"
      ]
    },
    {
      "cell_type": "code",
      "execution_count": null,
      "metadata": {
        "collapsed": false
      },
      "outputs": [],
      "source": [
        "tel2_srm = responses.foxsi4_telescope_spectral_response(tel2_arf, tel2_rmf)"
      ]
    },
    {
      "cell_type": "markdown",
      "metadata": {},
      "source": [
        "Note that with the FOXSI-4 Telescope fucntions (`foxsi4_telescope*`), \nthere exists a field in the class called `elements`. This field \ncontains all the data-classes used to produce the objects `response` \nfield.\n\nChecking the `elements` field for, say, the ARF object:\n\n"
      ]
    },
    {
      "cell_type": "code",
      "execution_count": null,
      "metadata": {
        "collapsed": false
      },
      "outputs": [],
      "source": [
        "print(tel2_arf.elements)"
      ]
    },
    {
      "cell_type": "markdown",
      "metadata": {},
      "source": [
        "We find that the `elements` field contains all the data-classes that \nproduced the Telescope 2 ARF such as the thermal blanket transmission \n(dimensionless), the Marshall 10-shell X-7 optics effective areas \n(cm^2), and the Al (0.015\") attenuator transmissions (dimensionless).\n"
      ]
    }
  ],
  "metadata": {
    "kernelspec": {
      "display_name": "Python 3",
      "language": "python",
      "name": "python3"
    },
    "language_info": {
      "codemirror_mode": {
        "name": "ipython",
        "version": 3
      },
      "file_extension": ".py",
      "mimetype": "text/x-python",
      "name": "python",
      "nbconvert_exporter": "python",
      "pygments_lexer": "ipython3",
      "version": "3.12.3"
    }
  },
  "nbformat": 4,
  "nbformat_minor": 0
}