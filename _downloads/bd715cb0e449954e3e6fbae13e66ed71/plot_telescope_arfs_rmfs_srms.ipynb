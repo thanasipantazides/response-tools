{
  "cells": [
    {
      "cell_type": "markdown",
      "metadata": {},
      "source": [
        "\n# Telescope ARFs, RMFs, and SRMs\n\nThroughout the [modules in the codebase](https://foxsi.github.io/response-tools/modules.html)_ \nthere are a variety of functions with names starting wtih ``asset``. \nThese functions were created to mainly test the functions being written\nbut they might be useful to see and compare a lot of the response \nelements.\n\nOne such example is an ``asset`` function that generates a plot showing \nall of FOXSI-4's telescope ARFs, RMFs, and SRMs in one plot.\n"
      ]
    },
    {
      "cell_type": "code",
      "execution_count": null,
      "metadata": {
        "collapsed": false
      },
      "outputs": [],
      "source": [
        "import response_tools.responses as responses"
      ]
    },
    {
      "cell_type": "markdown",
      "metadata": {},
      "source": [
        "Some caveats come with these asset functions as many choices that the\nuser can make are obviously chosen then hidden in the function but it\nmight still be useful to see an idea of what these elements look like:\n\n"
      ]
    },
    {
      "cell_type": "code",
      "execution_count": null,
      "metadata": {
        "collapsed": false
      },
      "outputs": [],
      "source": [
        "responses.asset_response_chain_plot()"
      ]
    },
    {
      "cell_type": "markdown",
      "metadata": {},
      "source": [
        "**Note** these functions are not usually names the best since they \nwere originally for testing purposes and so the names might change. \nPlease utilize the [auto-generated code documentation](https://foxsi.github.io/response-tools/modules.html)_\nto keep up-to-date.\n\nAll figures produced using all of the ``asset`` functions can be found\nin the codebase. The ``assets`` folder is on the same directory level \nas the ``response-information`` folder that can be found using the \nPython package global variable: ``response_tools.responseFilePath`` \n(more on the ``responseFilePath`` global variable \n[here](https://foxsi.github.io/response-tools/general_instructions.html#python-interface-to-pull-data)_).\n"
      ]
    }
  ],
  "metadata": {
    "kernelspec": {
      "display_name": "Python 3",
      "language": "python",
      "name": "python3"
    },
    "language_info": {
      "codemirror_mode": {
        "name": "ipython",
        "version": 3
      },
      "file_extension": ".py",
      "mimetype": "text/x-python",
      "name": "python",
      "nbconvert_exporter": "python",
      "pygments_lexer": "ipython3",
      "version": "3.12.3"
    }
  },
  "nbformat": 4,
  "nbformat_minor": 0
}