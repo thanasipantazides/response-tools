{
  "cells": [
    {
      "cell_type": "markdown",
      "metadata": {},
      "source": [
        "\n# Generating and plotting ARFs, RMFs, and SRMs\n\nScript showing a quick example how to plot the Ancillary Response \nFunction (ARF), Redistribution Matrix Function (RMF), and the Spectral \nResponse Matrix (SRM) of a FOXSI-4 telescope.\n\nThe chosen telescope is Telescope 2 with photon path:\n\n* Thermal blanket -> Marshall 10-shell X-7 -> Al (0.015\") -> CdTe4\n"
      ]
    },
    {
      "cell_type": "code",
      "execution_count": null,
      "metadata": {
        "collapsed": false
      },
      "outputs": [],
      "source": [
        "import astropy.units as u\nfrom matplotlib.colors import LogNorm\nimport matplotlib.gridspec as gridspec\nimport matplotlib.pyplot as plt\nimport numpy as np\n\nimport response_tools.responses as responses"
      ]
    },
    {
      "cell_type": "markdown",
      "metadata": {},
      "source": [
        "## A note on usage and user options\n\nOne great thing about the unit-awareness of the inputs/outputs is that \nyou can pass any reasonable input units and they'll be converted for \nyou so you don't need to worry about conversion factors throughout \nyour code to use the functions.\n\nAs other examples will likely go into more detail than here, to \ngenerate a telescope response you only need to make a few core \ndecisions related to the **FOXSI-4 observation** and the data in which \nthe user is interested.\n\n.. raw:: html\n\n    <style> .colour {color:#e16b27;font-style:italic;} </style>\n\n.. role:: colour\n\n:colour:`Please look over the FOXSI-4 observation resources to add` \n:colour:`more context as to how a user might decide on their choice` \n:colour:`of the following parameters. Additionally, look over the` \n:colour:`FOXSI-4 instrumentation resources when deciding which`\n:colour:`functions to use.`\n\nThese crucial choices will be:\n\n* **A source location** to obtain:\n\n  * An off axis angle.\n  * A detector region.\n\n* **A time range during the flight**.\n* **An energy array** *(sometimes)*.\n\nFor more detail on choices:\n\n* **An off axis angle** (input: ``off_axis_angle``):\n\n  * For Ancillary Response Function (ARF) code.\n  * Astropy.units unit convertable to arc-minutes.\n\n* **A detector region** (for CdTe, input: ``region`` xor ``pitch``):\n\n  * For CdTe Redistribution Matrix Function (RMF) code.\n\n    * Of course, this should be consistent with the off axis angle being used.\n\n  * Use either, not both, inputs:\n\n    * An integer for ``region`` input in [0,1,2].\n    * Astropy.units unit convertable to micrometers for ``pitch`` input in [60 um,80 um,100 um].\n\n* **A time range during the flight** (input: ``time_range``):\n\n  * For Ancillary Response Function (ARF) code.\n  * *Input ``time_range`` will change to something more readable after some time calibration:*\n\n    * E.g., converted to use UTC time strings.\n\n  * Inputs in functions that reference the flight: \n\n    * E.g., in ``response_tools.responses.foxsi4_telescope2_flight_arf``.\n\n  * Astropy.units unit convertable to seconds:\n\n    * Launch: 0 s.\n    * Observation start: 100 s.\n    * Observation end: 461 s.\n\n* **An energy array** (input: ``mid_energies``):\n\n  * For Ancillary Response Function (ARF) code.\n  * Astropy.units unit convertable to keV.\n  * Input should come from the RMF.\n\n    * The RMF defines the energy resolution/sampling of the detector.\n\n"
      ]
    },
    {
      "cell_type": "markdown",
      "metadata": {},
      "source": [
        "## Generating response products\n\nLet's define some of these parameters as an example. Our user will \nassume the source our user is interested in is on-axis: \n\n* at 0 arc-minutes, region-0, a pitch of 60 um.\n\n"
      ]
    },
    {
      "cell_type": "code",
      "execution_count": null,
      "metadata": {
        "collapsed": false
      },
      "outputs": [],
      "source": [
        "# set up the ARF with the RMF information then make the SRM\nuser_off_axis_angle = 0 << u.arcmin\nuser_region = 0 # equivalent to defining ``user_pitch=60<<u.um``"
      ]
    },
    {
      "cell_type": "markdown",
      "metadata": {},
      "source": [
        "### Generating the RMF\n\nAs stated for previously, the energy array choice should come from the \nRMF information. Let's get The RMF product first:\n\n"
      ]
    },
    {
      "cell_type": "code",
      "execution_count": null,
      "metadata": {
        "collapsed": false
      },
      "outputs": [],
      "source": [
        "# if pitch is defined instead, pass as ``responses.foxsi4_telescope2_rmf(pitch=user_pitch)``\npos_rmf = responses.foxsi4_telescope2_rmf(region=user_region)"
      ]
    },
    {
      "cell_type": "markdown",
      "metadata": {},
      "source": [
        "Our user can use the RMF field ``input_energy_edges`` (synonymous with \nthe incoming photon energies to the detector) to get the energies at \nwhich they want to sample the ARF product. Our user will grab the \nmid-points of the incoming photon bins to be sensible:\n\n"
      ]
    },
    {
      "cell_type": "code",
      "execution_count": null,
      "metadata": {
        "collapsed": false
      },
      "outputs": [],
      "source": [
        "rmf_mid_energies = (pos_rmf.input_energy_edges[:-1]+pos_rmf.input_energy_edges[1:])/2"
      ]
    },
    {
      "cell_type": "markdown",
      "metadata": {},
      "source": [
        "### Generating the ARF\n\nNow our user can easily generate the ARF information for their \ntelescope:\n\n"
      ]
    },
    {
      "cell_type": "code",
      "execution_count": null,
      "metadata": {
        "collapsed": false
      },
      "outputs": [],
      "source": [
        "pos_arf = responses.foxsi4_telescope2_arf(mid_energies=rmf_mid_energies, \n                                          off_axis_angle=user_off_axis_angle)"
      ]
    },
    {
      "cell_type": "markdown",
      "metadata": {},
      "source": [
        "### Generating the SRM\n\nThe user can then combine the ARF and RMF into one product describing \nthe whole telescope. \n\nOf course, the user can do this step manually; however, the codebase \nprovides a functions to make sure sensible things are happening:\n\n"
      ]
    },
    {
      "cell_type": "code",
      "execution_count": null,
      "metadata": {
        "collapsed": false
      },
      "outputs": [],
      "source": [
        "pos_srm = responses.foxsi4_telescope_spectral_response(pos_arf, pos_rmf)"
      ]
    },
    {
      "cell_type": "markdown",
      "metadata": {},
      "source": [
        "The ``response_tools.responses.foxsi4_telescope_spectral_response`` \nfunction will check:\n\n* The ARF and RMF objects share the same telescope information via their ``telescope`` field.\n\n  * If they do not match, the function will work but a warning is produced informing the user.\n\n* The ARF ``mid_energies`` field matches the RMF ``input_energy_edges`` field's mid-points.\n\n  * If the do not match, the function will raise a ``ValueError``.\n\n"
      ]
    },
    {
      "cell_type": "markdown",
      "metadata": {},
      "source": [
        "## Plotting response products\n\nLikely, a user will be happy just getting the ARF, RMF, and SRM and \nwill be on their way to do science (e.g., spectral fitting) with the \nproduct.\n\nHowever, a user might want to actually inspect what they have before \nrunning off. Even if they are not so familiar with and ARF and RMF, \nthey still might be able to pick up on something that is not quite \nwhat they expect it to be. At the very least a user might want to ask very \nsensible questions about what they are working with as these products \nwill heavily influence any spectral fitting results.\n\nPlotting code always turns into a mess but at least the functions in \nthe codebase do not make it any more difficult than it usually is in \nother code (perhaps easier since we can make use of the output units\nwhen creating our plot labels).\n\n"
      ]
    },
    {
      "cell_type": "code",
      "execution_count": null,
      "metadata": {
        "collapsed": false
      },
      "outputs": [],
      "source": [
        "fig = plt.figure(figsize=(18, 5))\ngs = gridspec.GridSpec(1, 3)\n\n# the ARF result (1D) and general plotting code\ngs_ax0 = fig.add_subplot(gs[0, 0])\ngs_ax0.plot(pos_arf.mid_energies, pos_arf.response)\ngs_ax0.set_xlabel(f\"Photon Energy [{pos_arf.mid_energies.unit:latex}]\")\ngs_ax0.set_ylabel(f\"Response [{pos_arf.response.unit:latex}]\")\ngs_ax0.set_title(f\"{pos_arf.response_type}:: {pos_arf.telescope}\")\n\n# the RMF result (2D) and general plotting code\ngs_ax1 = fig.add_subplot(gs[0, 1])\nr = gs_ax1.imshow(pos_rmf.response.value, \n                origin=\"lower\", \n                norm=LogNorm(vmin=0.001), \n                extent=[np.min(pos_rmf.output_energy_edges.value), \n                        np.max(pos_rmf.output_energy_edges.value), \n                        np.min(pos_rmf.input_energy_edges.value), \n                        np.max(pos_rmf.input_energy_edges.value)]\n                )\ncbar = plt.colorbar(r)\ncbar.ax.set_ylabel(f\"Response [{pos_rmf.response.unit:latex}]\")\ngs_ax1.set_xlabel(f\"Count Energy [{pos_rmf.output_energy_edges.unit:latex}]\")\ngs_ax1.set_ylabel(f\"Photon Energy [{pos_rmf.input_energy_edges.unit:latex}]\")\ngs_ax1.set_title(f\"{pos_rmf.response_type}:: {pos_rmf.telescope}\")\n\n# the SRM result (2D) and general plotting code\ngs_ax2 = fig.add_subplot(gs[0, 2])\nr = gs_ax2.imshow(pos_srm.response.value, \n                origin=\"lower\", \n                norm=LogNorm(vmin=0.001), \n                extent=[np.min(pos_srm.output_energy_edges.value), \n                        np.max(pos_srm.output_energy_edges.value), \n                        np.min(pos_srm.input_energy_edges.value), \n                        np.max(pos_srm.input_energy_edges.value)]\n                )\ncbar = plt.colorbar(r)\ncbar.ax.set_ylabel(f\"Response [{pos_srm.response.unit:latex}]\")\ngs_ax2.set_xlabel(f\"Count Energy [{pos_srm.output_energy_edges.unit:latex}]\")\ngs_ax2.set_ylabel(f\"Photon Energy [{pos_srm.input_energy_edges.unit:latex}]\")\ngs_ax2.set_title(f\"{pos_srm.response_type}:: {pos_srm.telescope}\")\n\nplt.tight_layout()\nplt.show()"
      ]
    },
    {
      "cell_type": "markdown",
      "metadata": {},
      "source": [
        "We can see how the ARF (left panel) and RMF (middle panel) are \ncombined where the photon energy rows of the RMF array are multiplied \nby the ARF array producing the SRM (right panel).\n"
      ]
    }
  ],
  "metadata": {
    "kernelspec": {
      "display_name": "Python 3",
      "language": "python",
      "name": "python3"
    },
    "language_info": {
      "codemirror_mode": {
        "name": "ipython",
        "version": 3
      },
      "file_extension": ".py",
      "mimetype": "text/x-python",
      "name": "python",
      "nbconvert_exporter": "python",
      "pygments_lexer": "ipython3",
      "version": "3.12.3"
    }
  },
  "nbformat": 4,
  "nbformat_minor": 0
}